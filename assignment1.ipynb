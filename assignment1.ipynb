{
 "cells": [
  {
   "cell_type": "markdown",
   "id": "46a9135a-f7fe-4aa0-a287-5932b7dd09bc",
   "metadata": {},
   "source": [
    "1. Python Programming Language is developed by Guido van Rossum in 1991.\n"
   ]
  },
  {
   "cell_type": "markdown",
   "id": "67a5fac8-b737-4bdd-898f-4f4f8f73b46a",
   "metadata": {},
   "source": [
    "2. Python supports a. Structured Programming b. Object Oriented Programming (OOPs).\n"
   ]
  },
  {
   "cell_type": "markdown",
   "id": "c8975836-bcf8-4168-aa83-42495de0c6c6",
   "metadata": {},
   "source": [
    "3. Yes Python is case sensitive while dealing with identifiers."
   ]
  },
  {
   "cell_type": "markdown",
   "id": "917088e2-1a74-4e47-8b97-8fdf5fa10d47",
   "metadata": {},
   "source": [
    "4. Python file uses the extension .py"
   ]
  },
  {
   "cell_type": "markdown",
   "id": "7d39ec71-85ac-4e03-a2e5-fd10a595b373",
   "metadata": {},
   "source": [
    "5. Python is an Interpreted Language."
   ]
  },
  {
   "cell_type": "markdown",
   "id": "7feebfb0-67dc-426d-8097-f501bda3d90d",
   "metadata": {},
   "source": [
    "6. if-else block, for in block, def block and these block."
   ]
  },
  {
   "cell_type": "markdown",
   "id": "b9011ac4-5956-4de4-8509-cfd76a678b9c",
   "metadata": {},
   "source": [
    "7. # is used to give single line comments in python."
   ]
  },
  {
   "cell_type": "markdown",
   "id": "d9f25a6a-7b64-4e06-8115-926d0ed0399a",
   "metadata": {},
   "source": [
    "8.  python --version"
   ]
  },
  {
   "cell_type": "markdown",
   "id": "2a18b1d9-5d4f-457b-b57c-253cae43caef",
   "metadata": {},
   "source": [
    "9. lambda\n"
   ]
  },
  {
   "cell_type": "markdown",
   "id": "0ca967e0-fe68-4cf8-b65e-54e94c2194e1",
   "metadata": {},
   "source": [
    "10. pip stands for \"preferred installer program\". It allows to install and manage the packages which are not a part of standard python library."
   ]
  },
  {
   "cell_type": "markdown",
   "id": "8120f7ac-3150-433b-9c90-7f2c9d0daa68",
   "metadata": {},
   "source": [
    "11. print(), str(), int(), float(), list(), type(), len() etc."
   ]
  },
  {
   "cell_type": "markdown",
   "id": "9d3559ed-aeff-4ec0-815e-b2ff085884ea",
   "metadata": {},
   "source": [
    "12. Python identifiers are unlimited in length\" but as per PEP-8, we should limit to maximum of 79 character for better readability"
   ]
  },
  {
   "cell_type": "markdown",
   "id": "e2814653-2b53-4d87-80d5-125d11ed9ba2",
   "metadata": {},
   "source": [
    "13. Python is general-purpose-scripting language. It is simple, easy-to-learn syntax. It is completely open-source, supports third-party Packages, Dynamically Typed, huge community of developers.\n",
    "\n",
    "It is used in various areas like : 1. Data science 2. Scientific and mathematical computing 3. Web development 4 .Finance and trading.\n"
   ]
  },
  {
   "cell_type": "markdown",
   "id": "10b4d25b-ea9d-41ae-8432-5d3809417cff",
   "metadata": {},
   "source": [
    "14. Python memory allocation and deallocation is automatic as python has garbage collector. Garbage collection is a process in which interpreter frees up memory when not in use to make it available for other objects to use. Python use reference counting method for garbage collection."
   ]
  },
  {
   "cell_type": "markdown",
   "id": "4416c719-afdb-4fbe-b2cc-e2d6e193a439",
   "metadata": {},
   "source": [
    "15. a. First download latest python from python.org. Click on python and start its installation after download.\n",
    "Then open cmd python --version to check it is properly installed or not.\n",
    "\n",
    "b. set path variable : 1. find the location where python is installed copy the address 2. start button ->Edit environment variables for your account->Environment variables click -> Path Edit -> New -> add New address copied + add New address copied\\Scripts -> OK \n",
    "\n"
   ]
  },
  {
   "cell_type": "markdown",
   "id": "9161f789-4be4-43bc-9021-6a11332501dd",
   "metadata": {},
   "source": [
    "16. Yes Indentation is very important in Python"
   ]
  },
  {
   "cell_type": "code",
   "execution_count": null,
   "id": "0eafb94d-7f4e-4865-acfa-1c7be1265704",
   "metadata": {},
   "outputs": [],
   "source": []
  }
 ],
 "metadata": {
  "kernelspec": {
   "display_name": "Python 3 (ipykernel)",
   "language": "python",
   "name": "python3"
  },
  "language_info": {
   "codemirror_mode": {
    "name": "ipython",
    "version": 3
   },
   "file_extension": ".py",
   "mimetype": "text/x-python",
   "name": "python",
   "nbconvert_exporter": "python",
   "pygments_lexer": "ipython3",
   "version": "3.10.6"
  }
 },
 "nbformat": 4,
 "nbformat_minor": 5
}
