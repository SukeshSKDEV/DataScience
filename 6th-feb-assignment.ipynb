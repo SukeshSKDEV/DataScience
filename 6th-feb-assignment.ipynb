{
 "cells": [
  {
   "cell_type": "code",
   "execution_count": null,
   "id": "1022b88b-4e0d-4f7c-9db7-0640d8acea82",
   "metadata": {},
   "outputs": [],
   "source": [
    "1.\n",
    "from functools import reduce\n",
    "list1 = [1,2,3,4, [44,55,66, True], False, (34,56,78,89,34), {1,2,3,3,2,1}, {1:34, \"key2\": [55, 67, 78, 89], 4: (45,22, 61, 34)}, [56, 'data science'], 'Machine Learning']\n",
    "\n",
    "def flat_list(list_obj):\n",
    "    num_list=[]\n",
    "    for i in list_obj:\n",
    "        if type(i)==int:\n",
    "            num_list.append(i)\n",
    "        if type(i)==list:\n",
    "              for j in i:\n",
    "                 if type(j)==int:\n",
    "                        num_list.append(j)\n",
    "        if type(i)==tuple:\n",
    "                for j in i:\n",
    "                    if type(j)==int:\n",
    "                        num_list.append(j)\n",
    "        if type(i)==set:\n",
    "                for j in i:\n",
    "                    if type(j)==int:\n",
    "                        num_list.append(j)\n",
    "                        \n",
    "        if type(i)==dict:\n",
    "                for key,value in i.items():\n",
    "                    if type(key)==int:\n",
    "                        num_list.append(key)\n",
    "                    if type(value)==int:\n",
    "                        num_list.append(value)\n",
    "                    if type(value)==list:\n",
    "                        for i in value:\n",
    "                            if type(i)==int:\n",
    "                                num_list.append(i)\n",
    "                    if type(value)==tuple:\n",
    "                        for i in value:\n",
    "                            if type(i)==int:\n",
    "                                num_list.append(i)\n",
    "                                               \n",
    "    return reduce(lambda x,y:x+y, num_list)\n",
    "\n",
    "flat_list(list1)"
   ]
  },
  {
   "cell_type": "code",
   "execution_count": null,
   "id": "7e02b553-3ed6-48ca-8f35-a841d6a9bc5f",
   "metadata": {},
   "outputs": [],
   "source": [
    "2.\n",
    "message='I want to become a Data Scientist.'\n",
    "message=message.lower()\n",
    "encr_message=''\n",
    "for i in message:\n",
    "    if i=='a':\n",
    "        encr_message=encr_message+'z'\n",
    "    elif i=='b':\n",
    "        encr_message=encr_message+'y'\n",
    "    elif i=='c':\n",
    "        encr_message=encr_message+'x'\n",
    "    elif i==' ':\n",
    "        encr_message=encr_message+'$'\n",
    "    else:\n",
    "        encr_message=encr_message+i\n",
    "\n",
    "encr_message"
   ]
  }
 ],
 "metadata": {
  "kernelspec": {
   "display_name": "Python 3 (ipykernel)",
   "language": "python",
   "name": "python3"
  },
  "language_info": {
   "codemirror_mode": {
    "name": "ipython",
    "version": 3
   },
   "file_extension": ".py",
   "mimetype": "text/x-python",
   "name": "python",
   "nbconvert_exporter": "python",
   "pygments_lexer": "ipython3",
   "version": "3.10.6"
  }
 },
 "nbformat": 4,
 "nbformat_minor": 5
}
