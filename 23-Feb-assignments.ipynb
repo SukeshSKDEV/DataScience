{
 "cells": [
  {
   "cell_type": "code",
   "execution_count": 2,
   "id": "430757af-4098-4b65-8c4a-2e6b927115b1",
   "metadata": {},
   "outputs": [],
   "source": [
    "import pandas as pd\n",
    "import numpy as np"
   ]
  },
  {
   "cell_type": "code",
   "execution_count": null,
   "id": "9906cc4e-6564-42ad-a0ea-7cdc2bcfe96a",
   "metadata": {},
   "outputs": [],
   "source": [
    "Q1. Create a Pandas Series that contains the following data: 4, 8, 15, 16, 23, and 42. Then, print the series.\n",
    "Ans : "
   ]
  },
  {
   "cell_type": "code",
   "execution_count": 3,
   "id": "661a7721-0739-4ff7-8356-3a506499f49a",
   "metadata": {},
   "outputs": [
    {
     "name": "stdout",
     "output_type": "stream",
     "text": [
      "0     4\n",
      "1     8\n",
      "2    15\n",
      "3    16\n",
      "4    23\n",
      "5    42\n",
      "dtype: int64\n"
     ]
    }
   ],
   "source": [
    "a=pd.Series([4, 8, 15, 16, 23, 42])\n",
    "print(a)"
   ]
  },
  {
   "cell_type": "code",
   "execution_count": null,
   "id": "b2d0949a-73e0-4bbc-9c6b-9b9204de1a12",
   "metadata": {},
   "outputs": [],
   "source": [
    "Q2. Create a variable of list type containing 10 elements in it, and apply pandas.Series function on the\n",
    "variable print it.\n",
    "Ans :"
   ]
  },
  {
   "cell_type": "code",
   "execution_count": 4,
   "id": "769f9425-a0e4-4d8e-a62e-1726b1b81a02",
   "metadata": {},
   "outputs": [
    {
     "name": "stdout",
     "output_type": "stream",
     "text": [
      "0     0\n",
      "1    10\n",
      "2    20\n",
      "3    30\n",
      "4    40\n",
      "5    50\n",
      "6    60\n",
      "7    70\n",
      "8    80\n",
      "9    90\n",
      "dtype: int64\n"
     ]
    }
   ],
   "source": [
    "elem_list=list(range(0,100,10))\n",
    "elem_ser=pd.Series(elem_list)\n",
    "print(elem_ser)"
   ]
  },
  {
   "cell_type": "code",
   "execution_count": null,
   "id": "a04f5de2-ad2a-480e-ba19-689fc4894ffb",
   "metadata": {},
   "outputs": [],
   "source": [
    "Q3. Create a Pandas DataFrame that contains the following data:\n",
    "Ans :"
   ]
  },
  {
   "cell_type": "code",
   "execution_count": 5,
   "id": "49692f46-8831-4b83-910f-2af3a40f89f3",
   "metadata": {},
   "outputs": [
    {
     "data": {
      "text/html": [
       "<div>\n",
       "<style scoped>\n",
       "    .dataframe tbody tr th:only-of-type {\n",
       "        vertical-align: middle;\n",
       "    }\n",
       "\n",
       "    .dataframe tbody tr th {\n",
       "        vertical-align: top;\n",
       "    }\n",
       "\n",
       "    .dataframe thead th {\n",
       "        text-align: right;\n",
       "    }\n",
       "</style>\n",
       "<table border=\"1\" class=\"dataframe\">\n",
       "  <thead>\n",
       "    <tr style=\"text-align: right;\">\n",
       "      <th></th>\n",
       "      <th>Name</th>\n",
       "      <th>Age</th>\n",
       "      <th>Gender</th>\n",
       "    </tr>\n",
       "  </thead>\n",
       "  <tbody>\n",
       "    <tr>\n",
       "      <th>0</th>\n",
       "      <td>Alice</td>\n",
       "      <td>25</td>\n",
       "      <td>Female</td>\n",
       "    </tr>\n",
       "    <tr>\n",
       "      <th>1</th>\n",
       "      <td>Bob</td>\n",
       "      <td>30</td>\n",
       "      <td>Male</td>\n",
       "    </tr>\n",
       "    <tr>\n",
       "      <th>2</th>\n",
       "      <td>Claire</td>\n",
       "      <td>27</td>\n",
       "      <td>Female</td>\n",
       "    </tr>\n",
       "  </tbody>\n",
       "</table>\n",
       "</div>"
      ],
      "text/plain": [
       "     Name  Age  Gender\n",
       "0   Alice   25  Female\n",
       "1     Bob   30    Male\n",
       "2  Claire   27  Female"
      ]
     },
     "execution_count": 5,
     "metadata": {},
     "output_type": "execute_result"
    }
   ],
   "source": [
    "pd.DataFrame({'Name':['Alice','Bob','Claire'],'Age':[25,30,27],'Gender':['Female','Male','Female']})"
   ]
  },
  {
   "cell_type": "code",
   "execution_count": null,
   "id": "6b696c7c-4269-42d5-8b15-580da811bd38",
   "metadata": {},
   "outputs": [],
   "source": [
    "Q4. What is ‘DataFrame’ in pandas and how is it different from pandas.series? Explain with an example.\n",
    "Ans :\n",
    "    DataFrame is 2-Dimensional data structure consisting of rows and columns. It is similar to spreadsheet or relational database table. \n",
    "    Each column represents fields while each row represents records. DataFrame consist of heterogeneous Data Type.\n",
    "    While Series is a 1-Dimensional labelled array. Series is a heterogeneous data type. Series act as building block for DataFrame making \n",
    "    its rows and columns.\n",
    "    # ex. DataFrame:"
   ]
  },
  {
   "cell_type": "code",
   "execution_count": 6,
   "id": "1fa5ae56-fd1d-4d67-9e90-5ea94e7d78ee",
   "metadata": {},
   "outputs": [
    {
     "name": "stdout",
     "output_type": "stream",
     "text": [
      "     Name Class       City\n",
      "0  Rajesh    XI      Delhi\n",
      "1  Suresh   XII  Hyderabad\n",
      "2  Ramesh    XI    Lucknow\n",
      "3  Lokesh     X   Gajiabad\n",
      "4  Naresh    IX     Satara\n"
     ]
    }
   ],
   "source": [
    "df=pd.DataFrame({'Name':['Rajesh','Suresh','Ramesh','Lokesh','Naresh'],'Class':['XI','XII','XI','X','IX'],\n",
    "                         'City':['Delhi','Hyderabad','Lucknow','Gajiabad','Satara']})\n",
    "print(df)"
   ]
  },
  {
   "cell_type": "code",
   "execution_count": 7,
   "id": "fe2ad86d-9428-4f4c-9575-67af1180841a",
   "metadata": {},
   "outputs": [
    {
     "name": "stdout",
     "output_type": "stream",
     "text": [
      "0           Zee\n",
      "1          Sony\n",
      "2        Sab TV\n",
      "3          & TV\n",
      "4    DD Channel\n",
      "dtype: object\n"
     ]
    }
   ],
   "source": [
    "# ex. Series:\n",
    "ser=pd.Series(['Zee','Sony','Sab TV','& TV','DD Channel'])\n",
    "print(ser)"
   ]
  },
  {
   "cell_type": "code",
   "execution_count": null,
   "id": "ab3b55cd-fec0-4602-b9e5-7af5934e7e97",
   "metadata": {},
   "outputs": [],
   "source": [
    "Q5. What are some common functions you can use to manipulate data in a Pandas DataFrame? Can\n",
    "you give an example of when you might use one of these functions?\n",
    "Ans :\n",
    "    pd.drop()-> use to delete column or row\n",
    "    pd.dropna()-> use to remove missing values\n",
    "    pd.fillna()-> use to fill NaN values with specific value\n",
    "    pd.rename()-> use to rename column name\n",
    "    pd.merge()-> use to join two different DataFrame\n",
    "\n",
    "    ex."
   ]
  },
  {
   "cell_type": "code",
   "execution_count": 8,
   "id": "81419e0f-9539-4986-8baf-177f7dcdd4fc",
   "metadata": {},
   "outputs": [
    {
     "data": {
      "text/html": [
       "<div>\n",
       "<style scoped>\n",
       "    .dataframe tbody tr th:only-of-type {\n",
       "        vertical-align: middle;\n",
       "    }\n",
       "\n",
       "    .dataframe tbody tr th {\n",
       "        vertical-align: top;\n",
       "    }\n",
       "\n",
       "    .dataframe thead th {\n",
       "        text-align: right;\n",
       "    }\n",
       "</style>\n",
       "<table border=\"1\" class=\"dataframe\">\n",
       "  <thead>\n",
       "    <tr style=\"text-align: right;\">\n",
       "      <th></th>\n",
       "      <th>Name</th>\n",
       "      <th>Class</th>\n",
       "      <th>City</th>\n",
       "    </tr>\n",
       "  </thead>\n",
       "  <tbody>\n",
       "    <tr>\n",
       "      <th>0</th>\n",
       "      <td>Rajesh</td>\n",
       "      <td>XI</td>\n",
       "      <td>Delhi</td>\n",
       "    </tr>\n",
       "    <tr>\n",
       "      <th>1</th>\n",
       "      <td>Suresh</td>\n",
       "      <td>XII</td>\n",
       "      <td>Hyderabad</td>\n",
       "    </tr>\n",
       "    <tr>\n",
       "      <th>2</th>\n",
       "      <td>Ramesh</td>\n",
       "      <td>XI</td>\n",
       "      <td>Other</td>\n",
       "    </tr>\n",
       "    <tr>\n",
       "      <th>3</th>\n",
       "      <td>Lokesh</td>\n",
       "      <td>X</td>\n",
       "      <td>Gajiabad</td>\n",
       "    </tr>\n",
       "    <tr>\n",
       "      <th>4</th>\n",
       "      <td>Naresh</td>\n",
       "      <td>IX</td>\n",
       "      <td>Satara</td>\n",
       "    </tr>\n",
       "  </tbody>\n",
       "</table>\n",
       "</div>"
      ],
      "text/plain": [
       "     Name Class       City\n",
       "0  Rajesh    XI      Delhi\n",
       "1  Suresh   XII  Hyderabad\n",
       "2  Ramesh    XI      Other\n",
       "3  Lokesh     X   Gajiabad\n",
       "4  Naresh    IX     Satara"
      ]
     },
     "execution_count": 8,
     "metadata": {},
     "output_type": "execute_result"
    }
   ],
   "source": [
    "df=pd.DataFrame({'Name':['Rajesh','Suresh','Ramesh','Lokesh','Naresh'],'Class':['XI','XII','XI','X','IX'],\n",
    "                 'City':['Delhi','Hyderabad',np.nan,'Gajiabad','Satara']})\n",
    "df.fillna(value=\"Other\")"
   ]
  },
  {
   "cell_type": "code",
   "execution_count": null,
   "id": "7bf58b5e-aaf3-473f-96ab-becd1d55d0c5",
   "metadata": {},
   "outputs": [],
   "source": [
    "Q6. Which of the following is mutable in nature Series, DataFrame, Panel?\n",
    "Ans : All three data structures in pandas are mutable (i.e., data mutable and size mutable) except Series are\n",
    "      only data mutable not size mutable.\n",
    "    \n",
    "    Series : One dimensional labelled array. It consist of homogeneous data.\n",
    "             it is Data mutable\n",
    "             it is size immutable\n",
    "    Pandas : 2-Dimensional data structure consisting of rows and columns. It consist of heterogenous data.\n",
    "             Data mutable\n",
    "             Size mutable\n",
    "    Panel :  3-Dimensional data structure which consist of heterogenous data.\n",
    "             Data mutable \n",
    "             Size mutable"
   ]
  },
  {
   "cell_type": "code",
   "execution_count": null,
   "id": "f0dfc576-b85a-4392-b9dd-07cb75e9654d",
   "metadata": {},
   "outputs": [],
   "source": [
    "Q7. Create a DataFrame using multiple Series. Explain with an example.\n",
    "Ans :\n",
    "    In the following example we have created four different pandas series ser1,ser2,ser3,ser4 and then \n",
    "    combine it with pd.DataFrame and created new DataFrame df."
   ]
  },
  {
   "cell_type": "code",
   "execution_count": 9,
   "id": "5ab8f14f-f595-40e7-880d-b0a467036d7e",
   "metadata": {},
   "outputs": [
    {
     "name": "stdout",
     "output_type": "stream",
     "text": [
      "        Name  Score Class    Country\n",
      "0  Anastasia   12.5   XII  Australia\n",
      "1       Dima    9.0     X         UK\n",
      "2  Katherine   16.5    XI      Japan\n",
      "3      James    NaN    IX     Brazil\n",
      "4      Emily    9.0   VII        USA\n",
      "5        NaN   20.0   NaN        NaN\n"
     ]
    }
   ],
   "source": [
    "ser1=pd.Series(['Anastasia', 'Dima', 'Katherine', 'James', 'Emily'])\n",
    "ser2=pd.Series([12.5, 9, 16.5, np.nan, 9, 20])\n",
    "ser3=pd.Series(['XII','X','XI','IX','VII'])\n",
    "ser4=pd.Series(['Australia','UK','Japan','Brazil','USA'])\n",
    "df=pd.DataFrame({'Name':ser1,'Score':ser2,'Class':ser3,'Country':ser4})\n",
    "print(df)"
   ]
  }
 ],
 "metadata": {
  "kernelspec": {
   "display_name": "Python 3 (ipykernel)",
   "language": "python",
   "name": "python3"
  },
  "language_info": {
   "codemirror_mode": {
    "name": "ipython",
    "version": 3
   },
   "file_extension": ".py",
   "mimetype": "text/x-python",
   "name": "python",
   "nbconvert_exporter": "python",
   "pygments_lexer": "ipython3",
   "version": "3.10.6"
  }
 },
 "nbformat": 4,
 "nbformat_minor": 5
}
