{
 "cells": [
  {
   "cell_type": "code",
   "execution_count": null,
   "id": "48e8968c-b443-41c8-82f4-9024db8c4ad0",
   "metadata": {},
   "outputs": [],
   "source": [
    "1.\n",
    "runs=[('Sachin Tendulkar', 34357), ('Ricky Ponting', 27483), ('Jack Kallis', 25534), ('Virat Kohli', 24936)]\n",
    "runs.sort(key=lambda a:a[1])\n",
    "print(runs)"
   ]
  },
  {
   "cell_type": "code",
   "execution_count": null,
   "id": "c0ec9a81-81a8-43bd-a6d0-3dbd36621fa0",
   "metadata": {},
   "outputs": [],
   "source": [
    "2.\n",
    "numbers=[1, 2, 3, 4, 5, 6, 7, 8, 9, 10]\n",
    "list(map(lambda x:x**2, numbers))"
   ]
  },
  {
   "cell_type": "code",
   "execution_count": null,
   "id": "d1c38f86-6fdf-467d-9e04-11c3afd5ddaf",
   "metadata": {},
   "outputs": [],
   "source": [
    "3.\n",
    "numbers=[1, 2, 3, 4, 5, 6, 7, 8, 9, 10]\n",
    "tuple(map(lambda x:str(x),numbers))"
   ]
  },
  {
   "cell_type": "code",
   "execution_count": null,
   "id": "a0393f1a-b9a7-42a8-8fe1-a2a853d50d77",
   "metadata": {},
   "outputs": [],
   "source": [
    "4.\n",
    "from functools import reduce\n",
    "numbers=list(range(1,26))\n",
    "reduce(lambda x,y:x*y,numbers)"
   ]
  },
  {
   "cell_type": "code",
   "execution_count": null,
   "id": "395963a8-6f32-4654-838e-19e391f1343d",
   "metadata": {},
   "outputs": [],
   "source": [
    "5.\n",
    "numbers=[2, 3, 6, 9, 27, 60, 90, 120, 55, 46]\n",
    "list(filter(lambda x : x%2==0 and x%3==0,numbers))"
   ]
  },
  {
   "cell_type": "code",
   "execution_count": 59,
   "id": "562a6646-cb6c-4da4-90f8-49cd5003a6c9",
   "metadata": {},
   "outputs": [
    {
     "data": {
      "text/plain": [
       "['php', 'aba', 'radar', 'level']"
      ]
     },
     "execution_count": 59,
     "metadata": {},
     "output_type": "execute_result"
    }
   ],
   "source": [
    "6.\n",
    "word_list=['python', 'php', 'aba', 'radar', 'level']\n",
    "list(filter(lambda x : x==x[::-1],word_list))"
   ]
  },
  {
   "cell_type": "code",
   "execution_count": null,
   "id": "b138cb90-9c7d-4d7a-a8c8-a4b5cfd954be",
   "metadata": {},
   "outputs": [],
   "source": []
  }
 ],
 "metadata": {
  "kernelspec": {
   "display_name": "Python 3 (ipykernel)",
   "language": "python",
   "name": "python3"
  },
  "language_info": {
   "codemirror_mode": {
    "name": "ipython",
    "version": 3
   },
   "file_extension": ".py",
   "mimetype": "text/x-python",
   "name": "python",
   "nbconvert_exporter": "python",
   "pygments_lexer": "ipython3",
   "version": "3.10.6"
  }
 },
 "nbformat": 4,
 "nbformat_minor": 5
}
