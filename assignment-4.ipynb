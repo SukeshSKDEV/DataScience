{
 "cells": [
  {
   "cell_type": "code",
   "execution_count": null,
   "id": "61e379ca-e5d9-4914-aea9-18f34bac52f2",
   "metadata": {},
   "outputs": [],
   "source": [
    "1.Q1. Which keyword is used to create a function? Create a function to return a list of odd numbers in the\n",
    "range of 1 to 25.\n",
    "Ans : \n",
    "'def' keyword is used to define function.\n",
    "def odd_list():\n",
    "    list_odd=[]\n",
    "    for i in range(1,26):\n",
    "        if not i%2==0:\n",
    "            list_odd.append(i)\n",
    "    return list_odd\n",
    "odd_list()\n"
   ]
  },
  {
   "cell_type": "code",
   "execution_count": null,
   "id": "56247af6-e21a-4727-9019-714d9f93aff5",
   "metadata": {},
   "outputs": [],
   "source": [
    "2. Why *args and **kwargs is used in some functions? Create a function each for *args and **kwargs\n",
    "   to demonstrate their use.\n",
    "Ans :\n",
    " *args is used in function to pass n number of variables. * is used to pass n n number of variable\n",
    " while **kwargs is used to pass n number of key and value pair\n",
    "\n",
    "def total_element(*args):\n",
    "    return sum(args)  # return sum of all argument\n",
    "total_element(1,2,3,4,5)\n",
    "\n",
    "def employee(**kwargs):\n",
    "    return kwargs  # return sum of all variables\n",
    "employee(name='Sukesh Kamble',designation='Data Scientist',id=12378,company='XYZ Co.')"
   ]
  },
  {
   "cell_type": "code",
   "execution_count": null,
   "id": "68006999-df12-40b4-9a77-a29262a1824d",
   "metadata": {},
   "outputs": [],
   "source": [
    "3.What is an iterator in python? Name the method used to initialise the iterator object and the method\n",
    "used for iteration. Use these methods to print the first five elements of the given list [2, 4, 6, 8, 10, 12, 14,\n",
    "16, 18, 20].\n",
    "Ans :\n",
    "To understand iterator, we try to first understand what iterables is?\n",
    "\n",
    "An iterable is an object that is looped over or iterated over. This includes list, tuples, strings, sets, dictionaries etc. \n",
    "In case of iterables, all the values are allocated in the memory location.\n",
    "\n",
    "Iterators are created from iterables using iter() method. Iterators are also iterables.\n",
    "In case of iterator all the values are not allocated in the memory location. As soon as, we use \n",
    "next() method only that value is initialized/allocated in the memory. This helps in \n",
    "memory optimization.\n",
    "Iterator remember the previous element and as soon as we call next() method it returns \n",
    "next value.\n",
    "\n",
    "iter()-> method is used to initialize the iterator object\n",
    "next()-> method is used for iteration\n",
    "\n",
    "lst=[2, 4, 6, 8, 10, 12, 14,16, 18, 20]\n",
    "iter_lst=iter(lst)\n",
    "print(next(iter_lst))\n",
    "print(next(iter_lst))\n",
    "print(next(iter_lst))\n",
    "print(next(iter_lst))\n",
    "print(next(iter_lst))"
   ]
  },
  {
   "cell_type": "code",
   "execution_count": null,
   "id": "f7f8f2cd-c7c6-4ccb-8f60-37006fed425b",
   "metadata": {},
   "outputs": [],
   "source": [
    "4. What is a generator function in python? Why yield keyword is used? Give an example of a generator\n",
    "function.\n",
    "Ans :\n",
    "Generators are another way of creating iterators by defining the function.\n",
    "Generator function allows us to write a function that can send back a value and then \n",
    "later resume to pick up where it left off.\n",
    "The main difference in syntax is that it use yield statement.\n",
    "Like iterator, generators also used next() method to return next value.\n",
    "\n",
    "A yield keyword are in of place return keyword in generators because a return statement terminates a function\n",
    "completely while yield statement pauses the function while storing all of its states and \n",
    "then continues from there on subsequent calls.\n",
    "Generators in python helps us to write fast and compact code.\n",
    "\n",
    "\n",
    "def create_cubes(n):\n",
    "    for i in range(1,n+1):\n",
    "        yield i**3\n",
    "\n",
    "cube=create_cubes(4)\n",
    "print(next(cube))\n",
    "print(next(cube))\n",
    "print(next(cube))\n",
    "print(next(cube))\n"
   ]
  },
  {
   "cell_type": "code",
   "execution_count": null,
   "id": "7bfbc798-743b-4b5f-9d07-c14086b93408",
   "metadata": {},
   "outputs": [],
   "source": [
    "5.\n",
    "import math\n",
    "def prime_no():\n",
    "    prime=True\n",
    "    for i in range(2,1000):\n",
    "        for j in range(2,int(math.sqrt(i))+1):\n",
    "            if i%j==0:\n",
    "                prime=False\n",
    "        if prime==True:\n",
    "            yield i\n",
    "        prime=True\n",
    "        \n",
    "p=prime_no()\n",
    "\n",
    "for i in range(0,20):\n",
    "    print(next(p))\n"
   ]
  },
  {
   "cell_type": "code",
   "execution_count": null,
   "id": "0f3fa6e8-812f-4491-898c-bb8edac9e647",
   "metadata": {},
   "outputs": [],
   "source": [
    "6. \n",
    "def fib_no(n):\n",
    "    a,b=0,1\n",
    "    i=0\n",
    "    while i<n:\n",
    "        print(a)\n",
    "        c=a+b\n",
    "        a=b\n",
    "        b=c\n",
    "        i=i+1\n",
    "fib_no(10)"
   ]
  },
  {
   "cell_type": "code",
   "execution_count": null,
   "id": "0a07176c-430b-413c-a279-f2a11e4dd591",
   "metadata": {},
   "outputs": [],
   "source": [
    "7.\n",
    "word='pwskills'\n",
    "[i for i in word]"
   ]
  },
  {
   "cell_type": "code",
   "execution_count": 58,
   "id": "3ba5e03d-cd58-4121-bc23-c209ae5bc29b",
   "metadata": {},
   "outputs": [],
   "source": [
    "8.\n",
    "def palindrome(word):\n",
    "    str_len=len(word)\n",
    "    i=0\n",
    "    while i < str_len:\n",
    "        if word[i].lower()==word[str_len-1].lower():\n",
    "            palindrome=True\n",
    "        else:\n",
    "            palindrome=False\n",
    "        str_len=str_len-1\n",
    "        i=i+1\n",
    "        if palindrome==False:\n",
    "            return 'word is not palindrome'\n",
    "    return 'word is palindrome'\n",
    "    \n",
    "palindrome('malayalam')            "
   ]
  },
  {
   "cell_type": "code",
   "execution_count": null,
   "id": "539a302e-51c4-4af8-863e-89db45b508c6",
   "metadata": {},
   "outputs": [],
   "source": [
    "9.\n",
    "numbers=[i for i in range(0,101)]\n",
    "print(numbers)\n",
    "odd_numbers=[i for i in numbers if not i%2==0]\n",
    "print(odd_numbers)\n"
   ]
  }
 ],
 "metadata": {
  "kernelspec": {
   "display_name": "Python 3 (ipykernel)",
   "language": "python",
   "name": "python3"
  },
  "language_info": {
   "codemirror_mode": {
    "name": "ipython",
    "version": 3
   },
   "file_extension": ".py",
   "mimetype": "text/x-python",
   "name": "python",
   "nbconvert_exporter": "python",
   "pygments_lexer": "ipython3",
   "version": "3.10.6"
  }
 },
 "nbformat": 4,
 "nbformat_minor": 5
}
