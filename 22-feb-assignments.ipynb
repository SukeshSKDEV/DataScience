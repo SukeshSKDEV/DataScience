{
 "cells": [
  {
   "cell_type": "code",
   "execution_count": null,
   "id": "a61e3ec1-1351-45fd-9c37-9c2b3d4f4dfa",
   "metadata": {},
   "outputs": [],
   "source": [
    "Q1. Write a python program to extract the video URL of the first five videos.\n",
    "Ans :\n",
    "    import requests\n",
    "    from bs4 import BeautifulSoup as bs\n",
    "    import re     # regular expression module\n",
    "    import pandas as pd\n",
    "    \n",
    "    url='https://www.youtube.com/@PW-Foundation/videos'\n",
    "    \n",
    "    headers = {\n",
    "        'User-Agent': 'Mozilla/5.0 (Windows NT 10.0; rv:91.0) Gecko/20100101 Firefox/91.0',\n",
    "        'Accept-Language': 'en-US,en;q=0.9'\n",
    "    }\n",
    "    \n",
    "    response=requests.get(url,headers)\n",
    "    response_docs=response.text\n",
    "    \n",
    "    # scraping video url links with regular expression\n",
    "    video_links = re.findall(r\"watch\\?v=[A-Za-z0-9_-]{11}\", response_docs)[:5]"
   ]
  },
  {
   "cell_type": "code",
   "execution_count": null,
   "id": "65ab549c-0a64-4598-8a65-81d05609d09e",
   "metadata": {},
   "outputs": [],
   "source": [
    "Q2. Write a python program to extract the URL of the video thumbnails of the first five videos.\n",
    "Ans :\n",
    "    # scraping thumbnail url links with regular expression\n",
    "    thumbnail_links = re.findall('\"thumbnail\":{\"thumbnails\":\\[{\"url\":\"https://i.ytimg.com/vi/[A-Za-z0-9_-]{11}/.*?\"', response_docs)[:5]"
   ]
  },
  {
   "cell_type": "code",
   "execution_count": null,
   "id": "ca9111bd-73a5-46c4-8f39-f1fc9a3a295f",
   "metadata": {},
   "outputs": [],
   "source": [
    "Q3. Write a python program to extract the title of the first five videos.\n",
    "Ans :\n",
    "    # scraping video titles with regular expression\n",
    "    video_titles = re.findall('\"title\":{\"runs\":\\[{\"text\":\".*?\"', response_docs)"
   ]
  },
  {
   "cell_type": "code",
   "execution_count": null,
   "id": "9db53c3f-6e71-4578-920f-f09fe112ae93",
   "metadata": {},
   "outputs": [],
   "source": [
    "Q4. Write a python program to extract the number of views of the first five videos.\n",
    "Ans :\n",
    "    # scraping video views with regular expression\n",
    "    video_views = re.findall('{\"accessibilityData\":{\"label\":\"[0-9]{0,5}K views\"}}',response_docs)"
   ]
  },
  {
   "cell_type": "code",
   "execution_count": null,
   "id": "d04584e4-ff49-43b6-8bd2-779324416576",
   "metadata": {},
   "outputs": [],
   "source": [
    "Q5. Write a python program to extract the time of posting of video for the first five videos.\n",
    "Ans :\n",
    "    # scraping video time of post with regular expression\n",
    "    posting_timePattern = re.compile('\\d+ (minutes|hours|hour|days|day|weeks|week|years|year) ago')\n",
    "    posting_timeMatch=posting_timePattern.finditer(response_docs)\n",
    "    posting_time=[]\n",
    "    for i in posting_timeMatch:\n",
    "        posting_time.append(i[0])\n",
    "    final_posting_time=posting_time[0:10:2]\n",
    "    \n",
    "    video_details=[]\n",
    "    for i in range(len(video_links)):\n",
    "        youtube_dict={'video_url':'https://www.youtube.com/'+video_links[i],\n",
    "                     'thumbnail_url':thumbnail_links[i].split('\"')[-2].split('?')[-2],\n",
    "                     'video_title':video_titles[i].split('\"')[-2],\n",
    "                     'views':video_views[i].split('\"')[-2],\n",
    "                     'video_posting':final_posting_time[i]}\n",
    "        video_details.append(youtube_dict)  \n",
    "    \n",
    "    df=pd.DataFrame(video_details)\n",
    "    \n",
    "    df.to_csv('ytd-scrpper-data.csv',index=None) # saving to all scrape csv fill\n",
    "    \n",
    "    "
   ]
  }
 ],
 "metadata": {
  "kernelspec": {
   "display_name": "Python 3 (ipykernel)",
   "language": "python",
   "name": "python3"
  },
  "language_info": {
   "codemirror_mode": {
    "name": "ipython",
    "version": 3
   },
   "file_extension": ".py",
   "mimetype": "text/x-python",
   "name": "python",
   "nbconvert_exporter": "python",
   "pygments_lexer": "ipython3",
   "version": "3.10.6"
  }
 },
 "nbformat": 4,
 "nbformat_minor": 5
}
