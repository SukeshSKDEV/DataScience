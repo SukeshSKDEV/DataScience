{
 "cells": [
  {
   "cell_type": "code",
   "execution_count": 1,
   "id": "da3edcf6-0701-4584-ad0e-1f566b6c4bc8",
   "metadata": {},
   "outputs": [],
   "source": [
    "!pip install numpy --quiet"
   ]
  },
  {
   "cell_type": "code",
   "execution_count": 16,
   "id": "4269c5c9-8ce2-40d3-9e99-62538349d710",
   "metadata": {},
   "outputs": [],
   "source": [
    "Consider the below code to answer further questions:\n",
    "import numpy as np\n",
    "list_ = [ '1' , '2' , '3' , '4' , '5' ]\n",
    "array_list = np.array(object = list_)"
   ]
  },
  {
   "cell_type": "code",
   "execution_count": 2,
   "id": "9325ce8d-7d2c-4809-af60-015d3fac81cf",
   "metadata": {},
   "outputs": [],
   "source": [
    "Q1. Is there any difference in the data type of variables list_ and array_list? If there is then write a code\n",
    "to print the data types of both the variables.\n",
    "Ans: Yes, there is a difference in the data type of list_ and array_list.\n",
    "\n",
    "     code:\n",
    "     print(type(list_))\n",
    "     print(type(array_list))"
   ]
  },
  {
   "cell_type": "code",
   "execution_count": null,
   "id": "824b4294-cbd5-4ed8-90f3-fc7a7044d90c",
   "metadata": {},
   "outputs": [],
   "source": [
    "Q2. Write a code to print the data type of each and every element of both the variables list_ and\n",
    "arra_list.\n",
    "Ans:\n",
    "    for i in list_:\n",
    "        print(type(i))\n",
    "        \n",
    "    for i in array_list:\n",
    "        print(i.dtype)"
   ]
  },
  {
   "cell_type": "code",
   "execution_count": null,
   "id": "863e33b6-ac86-44f1-ae39-26dadda6a621",
   "metadata": {},
   "outputs": [],
   "source": [
    "Q3. Considering the following changes in the variable, array_list:\n",
    "    array_list = np.array(object = list_, dtype = int)\n",
    "    Will there be any difference in the data type of the elements present in both the variables, list_ and\n",
    "    arra_list? If so then print the data types of each and every element present in both the variables, list_\n",
    "    and arra_list.\n",
    "    Ans:\n",
    "    Yes, there is a difference in the data type of elements of both the variables, list_ and array_list.\n",
    "    for i in list_:\n",
    "        print(type(i))\n",
    "        \n",
    "    for i in array_list:\n",
    "        print(i.dtype)"
   ]
  },
  {
   "cell_type": "code",
   "execution_count": 12,
   "id": "dbe4786e-2642-48e7-947f-452b39ab2f2f",
   "metadata": {},
   "outputs": [],
   "source": [
    "Consider the below code to answer further questions:\n",
    "    import numpy as np\n",
    "    num_list = [ [ 1 , 2 , 3 ] , [ 4 , 5 , 6 ] ]\n",
    "    num_array = np.array(object = num_list)\n",
    "Q4. Write a code to find the following characteristics of variable, num_array:\n",
    "    (i) shape\n",
    "    (ii) size\n",
    "    Ans:\n",
    "        (i)  num_array.shape\n",
    "        (ii) num_array.size"
   ]
  },
  {
   "cell_type": "code",
   "execution_count": null,
   "id": "982a458d-ebdb-45ad-8223-fb4e8d6a7be9",
   "metadata": {},
   "outputs": [],
   "source": [
    "Q5. Write a code to create numpy array of 3*3 matrix containing zeros only, using a numpy array\n",
    "creation function.\n",
    "[Hint: The size of the array will be 9 and the shape will be (3,3).]\n",
    "Ans:\n",
    "    np.zeros((3,3))"
   ]
  },
  {
   "cell_type": "code",
   "execution_count": 17,
   "id": "c98c50ed-c993-4762-a9b0-33f9269c359f",
   "metadata": {},
   "outputs": [],
   "source": [
    "Q6. Create an identity matrix of shape (5,5) using numpy functions?\n",
    "[Hint: An identity matrix is a matrix containing 1 diagonally and other elements will be 0.]\n",
    "Ans:\n",
    "    np.identity(5)"
   ]
  }
 ],
 "metadata": {
  "kernelspec": {
   "display_name": "Python 3 (ipykernel)",
   "language": "python",
   "name": "python3"
  },
  "language_info": {
   "codemirror_mode": {
    "name": "ipython",
    "version": 3
   },
   "file_extension": ".py",
   "mimetype": "text/x-python",
   "name": "python",
   "nbconvert_exporter": "python",
   "pygments_lexer": "ipython3",
   "version": "3.10.6"
  }
 },
 "nbformat": 4,
 "nbformat_minor": 5
}
