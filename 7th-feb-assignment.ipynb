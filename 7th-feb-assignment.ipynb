{
 "cells": [
  {
   "cell_type": "code",
   "execution_count": null,
   "id": "8724748e-d142-46c1-b416-6d43cffbfc68",
   "metadata": {},
   "outputs": [],
   "source": [
    "1.\n",
    "def password_validator(password):\n",
    "    validate=True\n",
    "    countUpper=0\n",
    "    countLower=0\n",
    "    countNumber=0\n",
    "    countSpecial=0\n",
    "    specialChar=['!','@','#','$','%','^','&','*']\n",
    "    \n",
    "    if len(password)>=10:\n",
    "        for i in password:\n",
    "            if i.islower():\n",
    "                countLower=countLower+1\n",
    "            if i.isupper():\n",
    "                countUpper=countUpper+1\n",
    "            if i.isdigit():\n",
    "                countNumber=countNumber+1\n",
    "            for j in specialChar:\n",
    "                if i==j:\n",
    "                    countSpecial=countSpecial+1\n",
    "    \n",
    "    if countUpper>=2 and countLower>=2 and countNumber>=1 and countSpecial>=3:\n",
    "        print('Password is valid')\n",
    "    else :\n",
    "        print('Password is not valid')\n",
    "\n",
    "password_validator('SUksh1@$@2')"
   ]
  },
  {
   "cell_type": "code",
   "execution_count": null,
   "id": "a49fe449-90d1-4925-a57c-631a23764010",
   "metadata": {},
   "outputs": [],
   "source": [
    "2.\n",
    "i. Check if the string starts with a particular letter\n",
    "\n",
    "a=lambda x:x.lower().startswith('s')\n",
    "a('sukesh')\n",
    "\n",
    "ii. Check if the string is numeric\n",
    "a=lambda x:x.isdigit()\n",
    "a('-12')\n",
    "\n",
    "iii. Sort a list of tuples having fruit names and their quantity.\n",
    "list_fruits=[(\"mango\",99),(\"orange\",80), (\"grapes\", 1000)]\n",
    "list_fruits.sort(key=lambda a:a[0])  # a[0] -> sorting according to string\n",
    "print(list_fruits)\n",
    "                    OR\n",
    "list_fruits.sort(key=lambda a:a[1])  #a[1] -> sorting according to values\n",
    "print(list_fruits)\n",
    "\n",
    "iv. Find the squares of numbers from 1 to 10\n",
    "[i**2 for i in range(1,11)]\n",
    "\n",
    "v. Find the cube root of numbers from 1 to 10\n",
    "list(map(lambda x:x**3,range(1,11)))\n",
    "\n",
    "vi. Check if a given number is even\n",
    "even_check=lambda x:'even' if x%2==0 else 'odd'\n",
    "print(even_check(2))\n",
    "\n",
    "vii. Filter odd numbers from the given list.\n",
    "list_numbers=[1,2,3,4,5,6,7,8,9,10]\n",
    "[i for i in list_numbers if not i%2==0]\n",
    "\n",
    "viii. Sort a list of integers into positive and negative integers lists.\n",
    "list_numbers=[1,2,3,4,5,6,-1,-2,-3,-4,-5,0]\n",
    "list_numbers.sort(key=lambda a:a)\n",
    "print(list_numbers)"
   ]
  }
 ],
 "metadata": {
  "kernelspec": {
   "display_name": "Python 3 (ipykernel)",
   "language": "python",
   "name": "python3"
  },
  "language_info": {
   "codemirror_mode": {
    "name": "ipython",
    "version": 3
   },
   "file_extension": ".py",
   "mimetype": "text/x-python",
   "name": "python",
   "nbconvert_exporter": "python",
   "pygments_lexer": "ipython3",
   "version": "3.10.6"
  }
 },
 "nbformat": 4,
 "nbformat_minor": 5
}
